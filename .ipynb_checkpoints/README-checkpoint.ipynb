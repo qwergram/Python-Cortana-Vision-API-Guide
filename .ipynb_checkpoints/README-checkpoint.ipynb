{
 "cells": [
  {
   "cell_type": "markdown",
   "metadata": {},
   "source": [
    "# Building a Cloud Service App with Cognitive Vision APIs\n",
    "In this lab, we will be building a [Django](https://www.djangoproject.com/) Cloud Service App, and we will be deploying to \n",
    "[Azure](https://azure.microsoft.com/en-us/services/cloud-services/) which uses the \n",
    "[PaaS](https://en.wikipedia.org/wiki/Platform_as_a_service) paradigm of deployment and programming.\n",
    "\n",
    "The advantage of using a [PaaS](https://en.wikipedia.org/wiki/Platform_as_a_service) instead of deploying\n",
    "on, say [AWS](https://aws.amazon.com/) or on [Virtual Machines](https://azure.microsoft.com/en-us/services/virtual-machines/)\n",
    "\\- which use [IaaS](https://en.wikipedia.org/wiki/Cloud_computing#Infrastructure_as_a_service_.28IaaS.29) paradigms \\-,\n",
    "is deployment becomes a lot easier. In addition, you can dedicate entire VMs to either a \n",
    "[worker role or web role](https://azure.microsoft.com/en-us/documentation/articles/cloud-services-choose-me/).\n",
    "\n",
    "In this HOL, we will create a cloud service app that allows users to upload photos, and then\n",
    "utilizing [Cortana's Vision API](https://www.microsoft.com/cognitive-services/en-us/face-api),\n",
    "we can sort the images into two containers: one with faces, and one without faces.\n",
    "\n",
    "Our program outline will look like this:\n",
    "\n",
    "![](http://i.imgur.com/dmrNiDQ.png)\n",
    "\n",
    "This HOL will expose us to Azure Cloud Storage, Azure Queues, Azure Cloud Services and Cortana Cognative\n",
    "services as well.\n"
   ]
  }
 ],
 "metadata": {
  "kernelspec": {
   "display_name": "Python 3",
   "language": "python",
   "name": "python3"
  },
  "language_info": {
   "codemirror_mode": {
    "name": "ipython",
    "version": 3
   },
   "file_extension": ".py",
   "mimetype": "text/x-python",
   "name": "python",
   "nbconvert_exporter": "python",
   "pygments_lexer": "ipython3",
   "version": "3.5.2"
  }
 },
 "nbformat": 4,
 "nbformat_minor": 0
}
