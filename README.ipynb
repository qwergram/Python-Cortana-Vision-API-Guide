{
 "cells": [
  {
   "cell_type": "markdown",
   "metadata": {},
   "source": [
    "# Building a Cloud Service App with Cognitive Vision APIs\n",
    "In this lab, we will be building a [Django](https://www.djangoproject.com/) Cloud Service App, and we will be deploying to \n",
    "[Azure](https://azure.microsoft.com/en-us/services/cloud-services/) which uses the \n",
    "[PaaS](https://en.wikipedia.org/wiki/Platform_as_a_service) paradigm of deployment and programming.\n",
    "\n",
    "The advantage of using a [PaaS](https://en.wikipedia.org/wiki/Platform_as_a_service) instead of deploying\n",
    "on [Virtual Machines](https://azure.microsoft.com/en-us/services/virtual-machines/)\n",
    "\\- which use [IaaS](https://en.wikipedia.org/wiki/Cloud_computing#Infrastructure_as_a_service_.28IaaS.29) paradigms \\-,\n",
    "is deployment becomes a lot easier.\n",
    "\n",
    "In this hands on lab (HOL), we will create a cloud service app that allows users to upload photos, and then\n",
    "utilizing [Cortana's Vision API](https://www.microsoft.com/cognitive-services/en-us/face-api),\n",
    "we can sort the images into two containers: one with faces, and one without faces.\n",
    "\n",
    "This HOL will expose us to Azure Cloud Storage, Azure Queues, Azure Cloud Services and Cortana Cognative\n",
    "services as well.\n",
    "\n",
    "# -1. App Planning\n",
    "\n",
    "From a high level, the magic behind our app will look like this."
   ]
  },
  {
   "cell_type": "markdown",
   "metadata": {},
   "source": [
    "![](http://i.imgur.com/dmrNiDQ.png)"
   ]
  },
  {
   "cell_type": "markdown",
   "metadata": {},
   "source": [
    "# 0. Prerequisites\n",
    "\n",
    "You will need the following to complete this HOL\n",
    "\n",
    "- [Visual Studio](https://www.visualstudio.com/en-us/visual-studio-homepage-vs.aspx) Installed\n",
    "- [Azure Account](https://portal.azure.com/)\n",
    "\n",
    "This lab will assume that you are familiar with Python, Django and the Azure dashboard."
   ]
  },
  {
   "cell_type": "markdown",
   "metadata": {},
   "source": [
    "# 1. Start a new project\n",
    "Create a new Python Azure Cloud Service Project\n",
    "\n",
    "![](https://github.com/qwergram/Python-Cortana-Vision-API-Guide/raw/master/images/createproject.png)"
   ]
  },
  {
   "cell_type": "markdown",
   "metadata": {},
   "source": [
    "# 2. Select Worker and Web Roles\n",
    "Add one worker and one web role\n",
    "\n",
    "![](http://i.imgur.com/syWSZJ5.png)"
   ]
  },
  {
   "cell_type": "markdown",
   "metadata": {},
   "source": [
    "# 3. Build Django Apps\n",
    "\n",
    "Navigate to the solution explorer as shown before and add `Apps` to your current Django Project.\n",
    "\n",
    "![](http://i.imgur.com/HCBtqkM.png)\n",
    "\n",
    "Once you created `upload` and `library`, your directory structure should look something like this:\n",
    "```\n",
    "- Django Web Role\\ (Root Directory)\n",
    "    - Django_Web_Role\\ (Project Directory)\n",
    "        - __init__.py\n",
    "        - settings.py\n",
    "        - urls.py\n",
    "        - wsgi.py\n",
    "    - library\\ (App Directory)\n",
    "        - migrations\\\n",
    "        - templates\\\n",
    "        - __init__.py\n",
    "        - admin.py\n",
    "        - models.py\n",
    "        - tests.py\n",
    "        - views.py\n",
    "    - upload\\ (App Directory)\n",
    "        - migrations\\\n",
    "        - templates\\\n",
    "        - __init__.py\n",
    "        - admin.py\n",
    "        - models.py\n",
    "        - tests.py\n",
    "        - views.py\n",
    "    - manage.py\n",
    "    - bin\\ (Scripts for deployment)\n",
    "        - *.ps1 (Some powershell scripts)\n",
    "```"
   ]
  },
  {
   "cell_type": "markdown",
   "metadata": {},
   "source": [
    "# 4. Update `Django_web_Role\\settings.py` and `manage.py`\n",
    "\n",
    "In `settings.py`, update `INSTALLED_APPS`. Append the new apps you created to it.\n",
    "    \n",
    "```python\n",
    "INSTALLED_APPS = [\n",
    "    # Add your apps here to enable them\n",
    "    'django.contrib.admin',\n",
    "    'django.contrib.auth',\n",
    "    'django.contrib.contenttypes',\n",
    "    'django.contrib.sessions',\n",
    "    'django.contrib.messages',\n",
    "    'django.contrib.staticfiles',\n",
    "    'library', # < New apps\n",
    "    'upload',  # < New apps\n",
    "]\n",
    "```\n",
    "\n",
    "# 5. Update `manage.py`\n",
    "\n",
    "There is currently a bug in Visual studio where it sometimes doesn't populate `manage.py` properly. Navigate to the file `manage.py` make sure that the string `\"$safeprojectname$\"` does not exist and replace it with the proper library name.\n",
    "\n",
    "```python\n",
    "#!/usr/bin/env python\n",
    "\"\"\"\n",
    "Command-line utility for administrative tasks.\n",
    "\"\"\"\n",
    "\n",
    "import os\n",
    "import sys\n",
    "\n",
    "if __name__ == \"__main__\":\n",
    "    os.environ.setdefault(\n",
    "        \"DJANGO_SETTINGS_MODULE\",\n",
    "        \"Django_Web_Role.settings\" # < make sure this is a valid python module\n",
    "                                   # < NOT \"$safeprojectname$.settings\"\n",
    "    )\n",
    "\n",
    "    from django.core.management import execute_from_command_line\n",
    "\n",
    "    execute_from_command_line(sys.argv)\n",
    "```"
   ]
  },
  {
   "cell_type": "markdown",
   "metadata": {},
   "source": [
    "# 6. Create routes\n",
    "\n",
    "In the file `Django_Web_Role\\urls.py`, update `urlpatterns` to use your new apps'  when routing.\n",
    "\n",
    "```python\n",
    "\n",
    "from django.conf.urls import include, url\n",
    "\n",
    "# import Django_Web_Role.views                                  # < Delete this import\n",
    "\n",
    "import upload.urls                                              # < New Import (Doesn't exist yet)\n",
    "# import library.urls                                           # < New Import (Doesn't exist yet)\n",
    "\n",
    "urlpatterns = [\n",
    "    url(r'^<your_path_here>/', include(upload.urls)),           # < New route (Doesn't exist yet)\n",
    "    # url(r'^<your_path_here>/', include(library.urls)),        # < New Route (Doesn't exist yet)\n",
    "]\n",
    "```\n",
    "\n",
    "__Note__: You can set your path to be root (e.g. `http://example.com/`) with `url(r'^', include(<your_lib>.urls))`."
   ]
  }
 ],
 "metadata": {
  "kernelspec": {
   "display_name": "Python 3",
   "language": "python",
   "name": "python3"
  },
  "language_info": {
   "codemirror_mode": {
    "name": "ipython",
    "version": 3
   },
   "file_extension": ".py",
   "mimetype": "text/x-python",
   "name": "python",
   "nbconvert_exporter": "python",
   "pygments_lexer": "ipython3",
   "version": "3.5.2"
  }
 },
 "nbformat": 4,
 "nbformat_minor": 0
}
