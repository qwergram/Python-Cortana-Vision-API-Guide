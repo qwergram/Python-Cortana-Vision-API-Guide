{
 "cells": [
  {
   "cell_type": "markdown",
   "metadata": {},
   "source": [
    "# Building a Cloud Service App with Cognitive Vision APIs\n",
    "In this lab, we will be building a [Django](https://www.djangoproject.com/) Cloud Service App, and we will be deploying to \n",
    "[Azure](https://azure.microsoft.com/en-us/services/cloud-services/) which uses the \n",
    "[PaaS](https://en.wikipedia.org/wiki/Platform_as_a_service) paradigm of deployment and programming.\n",
    "\n",
    "The advantage of using a [PaaS](https://en.wikipedia.org/wiki/Platform_as_a_service) instead of deploying\n",
    "on [Virtual Machines](https://azure.microsoft.com/en-us/services/virtual-machines/)\n",
    "\\- which use [IaaS](https://en.wikipedia.org/wiki/Cloud_computing#Infrastructure_as_a_service_.28IaaS.29) paradigms \\-,\n",
    "is deployment becomes a lot easier.\n",
    "\n",
    "In this hands on lab (HOL), we will create a cloud service app that allows users to upload photos, and then\n",
    "utilizing [Cortana's Vision API](https://www.microsoft.com/cognitive-services/en-us/face-api),\n",
    "we can sort the images into two containers: one with faces, and one without faces.\n",
    "\n",
    "This HOL will expose us to Azure Cloud Storage, Azure Queues, Azure Cloud Services and Cortana Cognative\n",
    "services as well.\n",
    "\n",
    "# -1. App Planning\n",
    "\n",
    "From a high level, the magic behind our app will look like this."
   ]
  },
  {
   "cell_type": "markdown",
   "metadata": {},
   "source": [
    "![](http://i.imgur.com/dmrNiDQ.png)"
   ]
  },
  {
   "cell_type": "markdown",
   "metadata": {},
   "source": [
    "# 0. Prerequisites\n",
    "\n",
    "You will need the following to complete this HOL\n",
    "\n",
    "- [Visual Studio](https://www.visualstudio.com/en-us/visual-studio-homepage-vs.aspx) Installed\n",
    "- [Azure Account](https://portal.azure.com/)\n",
    "\n",
    "This lab will assume that you are familiar with Python, Django and the Azure dashboard."
   ]
  },
  {
   "cell_type": "markdown",
   "metadata": {},
   "source": [
    "# 1. Start a new project\n",
    "Create a new Python Azure Cloud Service Project\n",
    "\n",
    "![](http://i.imgur.com/vGvCkiL.png)"
   ]
  }
 ],
 "metadata": {
  "kernelspec": {
   "display_name": "Python 3",
   "language": "python",
   "name": "python3"
  },
  "language_info": {
   "codemirror_mode": {
    "name": "ipython",
    "version": 3
   },
   "file_extension": ".py",
   "mimetype": "text/x-python",
   "name": "python",
   "nbconvert_exporter": "python",
   "pygments_lexer": "ipython3",
   "version": "3.5.2"
  }
 },
 "nbformat": 4,
 "nbformat_minor": 0
}
